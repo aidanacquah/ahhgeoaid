{
 "cells": [
  {
   "cell_type": "code",
   "execution_count": 86,
   "metadata": {
    "collapsed": false
   },
   "outputs": [],
   "source": [
    "import numpy as np\n",
    "import pandas as pd\n",
    "import matplotlib.pyplot as plt\n",
    "import seaborn\n",
    "%matplotlib inline\n",
    "\n",
    "def get_temporal_weights(n_points):\n",
    "    weights = np.zeros(n_points)\n",
    "    for i in range(n_points):\n",
    "        weights[i] = (1.0/(i+1))\n",
    "\n",
    "    weights = weights/np.sum(weights)\n",
    "    \n",
    "    return weights"
   ]
  },
  {
   "cell_type": "code",
   "execution_count": 39,
   "metadata": {
    "collapsed": false
   },
   "outputs": [
    {
     "name": "stdout",
     "output_type": "stream",
     "text": [
      "Number of areas: 22\n"
     ]
    },
    {
     "data": {
      "text/html": [
       "<div>\n",
       "<style>\n",
       "    .dataframe thead tr:only-child th {\n",
       "        text-align: right;\n",
       "    }\n",
       "\n",
       "    .dataframe thead th {\n",
       "        text-align: left;\n",
       "    }\n",
       "\n",
       "    .dataframe tbody tr th {\n",
       "        vertical-align: top;\n",
       "    }\n",
       "</style>\n",
       "<table border=\"1\" class=\"dataframe\">\n",
       "  <thead>\n",
       "    <tr style=\"text-align: right;\">\n",
       "      <th></th>\n",
       "      <th>Date</th>\n",
       "      <th>Governorate</th>\n",
       "      <th>Cases</th>\n",
       "      <th>Deaths</th>\n",
       "      <th>CFR (%)</th>\n",
       "      <th>Attack Rate (per 1000)</th>\n",
       "      <th>COD Gov English</th>\n",
       "      <th>COD Gov Arabic</th>\n",
       "      <th>COD Gov Pcode</th>\n",
       "    </tr>\n",
       "  </thead>\n",
       "  <tbody>\n",
       "    <tr>\n",
       "      <th>0</th>\n",
       "      <td>2018-01-14</td>\n",
       "      <td>Amran</td>\n",
       "      <td>102231</td>\n",
       "      <td>175</td>\n",
       "      <td>0.17</td>\n",
       "      <td>88.088</td>\n",
       "      <td>Amran</td>\n",
       "      <td>عمران</td>\n",
       "      <td>29.0</td>\n",
       "    </tr>\n",
       "    <tr>\n",
       "      <th>1</th>\n",
       "      <td>2018-01-14</td>\n",
       "      <td>Al Mahwit</td>\n",
       "      <td>61097</td>\n",
       "      <td>149</td>\n",
       "      <td>0.24</td>\n",
       "      <td>83.671</td>\n",
       "      <td>Al Mahwit</td>\n",
       "      <td>المحويت</td>\n",
       "      <td>27.0</td>\n",
       "    </tr>\n",
       "    <tr>\n",
       "      <th>2</th>\n",
       "      <td>2018-01-14</td>\n",
       "      <td>Al Dhale'e</td>\n",
       "      <td>47132</td>\n",
       "      <td>81</td>\n",
       "      <td>0.17</td>\n",
       "      <td>64.432</td>\n",
       "      <td>Al Dhale'e</td>\n",
       "      <td>الضالع</td>\n",
       "      <td>30.0</td>\n",
       "    </tr>\n",
       "    <tr>\n",
       "      <th>3</th>\n",
       "      <td>2018-01-14</td>\n",
       "      <td>Hajjah</td>\n",
       "      <td>118468</td>\n",
       "      <td>420</td>\n",
       "      <td>0.35</td>\n",
       "      <td>50.850</td>\n",
       "      <td>Hajjah</td>\n",
       "      <td>حجة</td>\n",
       "      <td>17.0</td>\n",
       "    </tr>\n",
       "    <tr>\n",
       "      <th>4</th>\n",
       "      <td>2018-01-14</td>\n",
       "      <td>Sana'a</td>\n",
       "      <td>74103</td>\n",
       "      <td>123</td>\n",
       "      <td>0.17</td>\n",
       "      <td>50.398</td>\n",
       "      <td>Sana'a</td>\n",
       "      <td>صنعاء</td>\n",
       "      <td>23.0</td>\n",
       "    </tr>\n",
       "  </tbody>\n",
       "</table>\n",
       "</div>"
      ],
      "text/plain": [
       "         Date Governorate   Cases  Deaths  CFR (%)  Attack Rate (per 1000)  \\\n",
       "0  2018-01-14       Amran  102231     175     0.17                  88.088   \n",
       "1  2018-01-14   Al Mahwit   61097     149     0.24                  83.671   \n",
       "2  2018-01-14  Al Dhale'e   47132      81     0.17                  64.432   \n",
       "3  2018-01-14      Hajjah  118468     420     0.35                  50.850   \n",
       "4  2018-01-14      Sana'a   74103     123     0.17                  50.398   \n",
       "\n",
       "  COD Gov English COD Gov Arabic  COD Gov Pcode  \n",
       "0           Amran          عمران           29.0  \n",
       "1       Al Mahwit        المحويت           27.0  \n",
       "2      Al Dhale'e         الضالع           30.0  \n",
       "3          Hajjah            حجة           17.0  \n",
       "4          Sana'a          صنعاء           23.0  "
      ]
     },
     "execution_count": 39,
     "metadata": {},
     "output_type": "execute_result"
    }
   ],
   "source": [
    "areas = ['Amran', 'Al Mahwit', \"Al Dhale'e\", 'Hajjah', \"Sana'a\", 'Dhamar', 'Abyan', 'Al Hudaydah', 'Al Bayda', 'Amanat Al Asimah', 'Al Jawf', 'Raymah', 'Lahj', 'Aden', 'Ibb', 'Taizz', 'Marib', \"Sa'ada\", 'Al Maharah', 'Shabwah', 'Moklla', \"Say'on\"]\n",
    "df = pd.read_csv('Outbreak.csv',sep=',')\n",
    "\n",
    "#removing comma which separates thousands\n",
    "for j in range(len(df)):\n",
    "    df.set_value(j,'Cases',np.float(df['Cases'][j].replace(',','')))\n",
    "    \n",
    "yemen_regions = pd.read_csv('Yemen_original.csv',sep=',')\n",
    "    \n",
    "print(\"Number of areas: \"+str(len(areas)))\n",
    "df.head()"
   ]
  },
  {
   "cell_type": "code",
   "execution_count": 40,
   "metadata": {
    "collapsed": false
   },
   "outputs": [
    {
     "data": {
      "text/html": [
       "<div>\n",
       "<style>\n",
       "    .dataframe thead tr:only-child th {\n",
       "        text-align: right;\n",
       "    }\n",
       "\n",
       "    .dataframe thead th {\n",
       "        text-align: left;\n",
       "    }\n",
       "\n",
       "    .dataframe tbody tr th {\n",
       "        vertical-align: top;\n",
       "    }\n",
       "</style>\n",
       "<table border=\"1\" class=\"dataframe\">\n",
       "  <thead>\n",
       "    <tr style=\"text-align: right;\">\n",
       "      <th></th>\n",
       "      <th>region</th>\n",
       "      <th>Latitude</th>\n",
       "      <th>longitude</th>\n",
       "      <th>population/million</th>\n",
       "      <th>area/km^2</th>\n",
       "    </tr>\n",
       "  </thead>\n",
       "  <tbody>\n",
       "    <tr>\n",
       "      <th>0</th>\n",
       "      <td>Amran</td>\n",
       "      <td>16.15</td>\n",
       "      <td>43.92</td>\n",
       "      <td>1123651</td>\n",
       "      <td>9587</td>\n",
       "    </tr>\n",
       "    <tr>\n",
       "      <th>1</th>\n",
       "      <td>Al Mahwit</td>\n",
       "      <td>15.38</td>\n",
       "      <td>43.57</td>\n",
       "      <td>732360</td>\n",
       "      <td>2858</td>\n",
       "    </tr>\n",
       "    <tr>\n",
       "      <th>2</th>\n",
       "      <td>Al Dhale'e</td>\n",
       "      <td>13.83</td>\n",
       "      <td>44.74</td>\n",
       "      <td>602613</td>\n",
       "      <td>4786</td>\n",
       "    </tr>\n",
       "    <tr>\n",
       "      <th>3</th>\n",
       "      <td>Hajjah</td>\n",
       "      <td>16.09</td>\n",
       "      <td>43.25</td>\n",
       "      <td>1887213</td>\n",
       "      <td>10141</td>\n",
       "    </tr>\n",
       "    <tr>\n",
       "      <th>4</th>\n",
       "      <td>Sana'a</td>\n",
       "      <td>15.35</td>\n",
       "      <td>44.32</td>\n",
       "      <td>2279665</td>\n",
       "      <td>15052</td>\n",
       "    </tr>\n",
       "  </tbody>\n",
       "</table>\n",
       "</div>"
      ],
      "text/plain": [
       "       region  Latitude  longitude  population/million  area/km^2\n",
       "0       Amran     16.15      43.92             1123651       9587\n",
       "1   Al Mahwit     15.38      43.57              732360       2858\n",
       "2  Al Dhale'e     13.83      44.74              602613       4786\n",
       "3      Hajjah     16.09      43.25             1887213      10141\n",
       "4      Sana'a     15.35      44.32             2279665      15052"
      ]
     },
     "execution_count": 40,
     "metadata": {},
     "output_type": "execute_result"
    }
   ],
   "source": [
    "yemen_regions.head()"
   ]
  },
  {
   "cell_type": "code",
   "execution_count": 50,
   "metadata": {
    "collapsed": false
   },
   "outputs": [],
   "source": [
    "# extracting features\n",
    "recent_cases = np.empty(len(areas),dtype=np.int)\n",
    "historic_cases = np.empty(len(areas),dtype=np.float64)\n",
    "death_rate_weighted = np.empty(len(areas),dtype=np.float64)\n",
    "population_density = np.empty(len(areas),dtype=np.float64)\n",
    "for i,area in enumerate (areas):\n",
    "    data = df[df['Governorate']==area]['Cases'].values\n",
    "    recent_cases[i] = data[0]-data[1]\n",
    "    \n",
    "    data = df[df['Governorate']==area]['Cases']\n",
    "    weights = get_temporal_weights(len(data))\n",
    "    historic_cases[i] = np.dot(data,weights)\n",
    "    \n",
    "    data = df[df['Governorate']==area]['CFR (%)']\n",
    "    weights = get_temporal_weights(len(data))\n",
    "    death_rate_weighted[i] = np.dot(data,weights)\n",
    "    \n",
    "    population = yemen_regions[yemen_regions['region']==area]['population/million']\n",
    "    area_size = yemen_regions[yemen_regions['region']==area]['area/km^2']\n",
    "    population_density[i] = population/area_size\n",
    "    \n",
    "#normalisation\n",
    "normalise = lambda x : x/np.sum(x)\n",
    "recent_cases = normalise(recent_cases)\n",
    "historic_cases = normalise(historic_cases)\n",
    "death_rate_weighted = normalise(death_rate_weighted)\n",
    "population_density = normalise(population_density)"
   ]
  },
  {
   "cell_type": "code",
   "execution_count": 57,
   "metadata": {
    "collapsed": false
   },
   "outputs": [
    {
     "data": {
      "text/plain": [
       "array([0.06856677, 0.04811252, 0.00708879, 0.12429693, 0.12060869,\n",
       "       0.13119036, 0.00398939, 0.10034913, 0.041171  , 0.11693562,\n",
       "       0.00391202, 0.0765761 , 0.00427984, 0.01322109, 0.06842535,\n",
       "       0.05518094, 0.00198942, 0.00212306, 0.00116882, 0.00263563,\n",
       "       0.00744604, 0.00073251])"
      ]
     },
     "execution_count": 57,
     "metadata": {},
     "output_type": "execute_result"
    }
   ],
   "source": [
    "ratio_past_recent = 0.2\n",
    "past = (historic_cases + death_rate_weighted + population_density)/3\n",
    "\n",
    "score = ratio_past_recent*past + (1-ratio_past_recent)*recent_cases\n",
    "score"
   ]
  },
  {
   "cell_type": "code",
   "execution_count": 93,
   "metadata": {
    "collapsed": false,
    "scrolled": false
   },
   "outputs": [
    {
     "data": {
      "image/png": "[encoded data removed]",
      "text/plain": [
       "<matplotlib.figure.Figure at 0x7f3918a983c8>"
      ]
     },
     "metadata": {},
     "output_type": "display_data"
    }
   ],
   "source": [
    "fig, ax = plt.subplots()\n",
    "fig.set_size_inches(14,5)\n",
    "ax.bar(range(len(areas)),score)\n",
    "ax.set_title('Yemen region scores for recency ration '+str(ratio_past_recent), size=20)\n",
    "ax.set_xticks(range(len(areas)))\n",
    "ax.set_xticklabels(areas, rotation=80, size=15);"
   ]
  },
  {
   "cell_type": "code",
   "execution_count": null,
   "metadata": {
    "collapsed": false
   },
   "outputs": [],
   "source": [
    "fig, ax = plt.subplots()\n",
    "fig.set_size_inches(14,5)\n",
    "ax.bar(range(len(areas)),score)\n",
    "ax.bar(range(len(areas)),)\n",
    "ax.set_title('Yemen region scores for recency ration '+str(ratio_past_recent), size=20)\n",
    "ax.set_xticks(range(len(areas)))\n",
    "ax.set_xticklabels(areas, rotation=80, size=15);"
   ]
  },
  {
   "cell_type": "code",
   "execution_count": null,
   "metadata": {
    "collapsed": true
   },
   "outputs": [],
   "source": []
  }
 ],
 "metadata": {
  "kernelspec": {
   "display_name": "Python 3",
   "language": "python",
   "name": "python3"
  },
  "language_info": {
   "codemirror_mode": {
    "name": "ipython",
    "version": 3
   },
   "file_extension": ".py",
   "mimetype": "text/x-python",
   "name": "python",
   "nbconvert_exporter": "python",
   "pygments_lexer": "ipython3",
   "version": "3.5.2"
  }
 },
 "nbformat": 4,
 "nbformat_minor": 0
}
